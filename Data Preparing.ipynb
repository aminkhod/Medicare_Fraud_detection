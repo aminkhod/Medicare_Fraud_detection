{
 "cells": [
  {
   "cell_type": "code",
   "execution_count": 1,
   "metadata": {},
   "outputs": [],
   "source": [
    "import pandas as pd\n",
    "import numpy as np\n",
    "from collections import Counter"
   ]
  },
  {
   "cell_type": "code",
   "execution_count": 2,
   "metadata": {},
   "outputs": [
    {
     "name": "stderr",
     "output_type": "stream",
     "text": [
      "/home/amin/.local/lib/python3.6/site-packages/IPython/core/interactiveshell.py:3072: DtypeWarning: Columns (10) have mixed types.Specify dtype option on import or set low_memory=False.\n",
      "  interactivity=interactivity, compiler=compiler, result=result)\n"
     ]
    },
    {
     "name": "stdout",
     "output_type": "stream",
     "text": [
      "(9847444, 26)\n"
     ]
    },
    {
     "data": {
      "text/html": [
       "<div>\n",
       "<style scoped>\n",
       "    .dataframe tbody tr th:only-of-type {\n",
       "        vertical-align: middle;\n",
       "    }\n",
       "\n",
       "    .dataframe tbody tr th {\n",
       "        vertical-align: top;\n",
       "    }\n",
       "\n",
       "    .dataframe thead th {\n",
       "        text-align: right;\n",
       "    }\n",
       "</style>\n",
       "<table border=\"1\" class=\"dataframe\">\n",
       "  <thead>\n",
       "    <tr style=\"text-align: right;\">\n",
       "      <th></th>\n",
       "      <th>npi</th>\n",
       "      <th>nppes_provider_last_org_name</th>\n",
       "      <th>nppes_provider_first_name</th>\n",
       "      <th>nppes_provider_mi</th>\n",
       "      <th>nppes_credentials</th>\n",
       "      <th>nppes_provider_gender</th>\n",
       "      <th>nppes_entity_code</th>\n",
       "      <th>nppes_provider_street1</th>\n",
       "      <th>nppes_provider_street2</th>\n",
       "      <th>nppes_provider_city</th>\n",
       "      <th>...</th>\n",
       "      <th>hcpcs_code</th>\n",
       "      <th>hcpcs_description</th>\n",
       "      <th>hcpcs_drug_indicator</th>\n",
       "      <th>line_srvc_cnt</th>\n",
       "      <th>bene_unique_cnt</th>\n",
       "      <th>bene_day_srvc_cnt</th>\n",
       "      <th>average_Medicare_allowed_amt</th>\n",
       "      <th>average_submitted_chrg_amt</th>\n",
       "      <th>average_Medicare_payment_amt</th>\n",
       "      <th>average_Medicare_standard_amt</th>\n",
       "    </tr>\n",
       "  </thead>\n",
       "  <tbody>\n",
       "    <tr>\n",
       "      <th>0</th>\n",
       "      <td>1</td>\n",
       "      <td>CPT copyright 2016 American Medical Associatio...</td>\n",
       "      <td>NaN</td>\n",
       "      <td>NaN</td>\n",
       "      <td>NaN</td>\n",
       "      <td>NaN</td>\n",
       "      <td>NaN</td>\n",
       "      <td>NaN</td>\n",
       "      <td>NaN</td>\n",
       "      <td>NaN</td>\n",
       "      <td>...</td>\n",
       "      <td>NaN</td>\n",
       "      <td>NaN</td>\n",
       "      <td>NaN</td>\n",
       "      <td>NaN</td>\n",
       "      <td>NaN</td>\n",
       "      <td>NaN</td>\n",
       "      <td>NaN</td>\n",
       "      <td>NaN</td>\n",
       "      <td>NaN</td>\n",
       "      <td>NaN</td>\n",
       "    </tr>\n",
       "    <tr>\n",
       "      <th>1</th>\n",
       "      <td>1003000126</td>\n",
       "      <td>ENKESHAFI</td>\n",
       "      <td>ARDALAN</td>\n",
       "      <td>NaN</td>\n",
       "      <td>M.D.</td>\n",
       "      <td>M</td>\n",
       "      <td>I</td>\n",
       "      <td>900 SETON DR</td>\n",
       "      <td>NaN</td>\n",
       "      <td>CUMBERLAND</td>\n",
       "      <td>...</td>\n",
       "      <td>99217</td>\n",
       "      <td>Hospital observation care discharge</td>\n",
       "      <td>N</td>\n",
       "      <td>100.0</td>\n",
       "      <td>96.0</td>\n",
       "      <td>100.0</td>\n",
       "      <td>73.398800</td>\n",
       "      <td>325.780000</td>\n",
       "      <td>56.827200</td>\n",
       "      <td>57.492400</td>\n",
       "    </tr>\n",
       "    <tr>\n",
       "      <th>2</th>\n",
       "      <td>1003000126</td>\n",
       "      <td>ENKESHAFI</td>\n",
       "      <td>ARDALAN</td>\n",
       "      <td>NaN</td>\n",
       "      <td>M.D.</td>\n",
       "      <td>M</td>\n",
       "      <td>I</td>\n",
       "      <td>900 SETON DR</td>\n",
       "      <td>NaN</td>\n",
       "      <td>CUMBERLAND</td>\n",
       "      <td>...</td>\n",
       "      <td>99218</td>\n",
       "      <td>Hospital observation care typically 30 minutes</td>\n",
       "      <td>N</td>\n",
       "      <td>26.0</td>\n",
       "      <td>25.0</td>\n",
       "      <td>26.0</td>\n",
       "      <td>100.080000</td>\n",
       "      <td>449.000000</td>\n",
       "      <td>78.460000</td>\n",
       "      <td>79.306154</td>\n",
       "    </tr>\n",
       "    <tr>\n",
       "      <th>3</th>\n",
       "      <td>1003000126</td>\n",
       "      <td>ENKESHAFI</td>\n",
       "      <td>ARDALAN</td>\n",
       "      <td>NaN</td>\n",
       "      <td>M.D.</td>\n",
       "      <td>M</td>\n",
       "      <td>I</td>\n",
       "      <td>900 SETON DR</td>\n",
       "      <td>NaN</td>\n",
       "      <td>CUMBERLAND</td>\n",
       "      <td>...</td>\n",
       "      <td>99219</td>\n",
       "      <td>Hospital observation care typically 50 minutes</td>\n",
       "      <td>N</td>\n",
       "      <td>52.0</td>\n",
       "      <td>51.0</td>\n",
       "      <td>52.0</td>\n",
       "      <td>136.380000</td>\n",
       "      <td>614.000000</td>\n",
       "      <td>102.807692</td>\n",
       "      <td>103.895385</td>\n",
       "    </tr>\n",
       "    <tr>\n",
       "      <th>4</th>\n",
       "      <td>1003000126</td>\n",
       "      <td>ENKESHAFI</td>\n",
       "      <td>ARDALAN</td>\n",
       "      <td>NaN</td>\n",
       "      <td>M.D.</td>\n",
       "      <td>M</td>\n",
       "      <td>I</td>\n",
       "      <td>900 SETON DR</td>\n",
       "      <td>NaN</td>\n",
       "      <td>CUMBERLAND</td>\n",
       "      <td>...</td>\n",
       "      <td>99220</td>\n",
       "      <td>Hospital observation care typically 70 minutes...</td>\n",
       "      <td>N</td>\n",
       "      <td>59.0</td>\n",
       "      <td>59.0</td>\n",
       "      <td>59.0</td>\n",
       "      <td>190.363729</td>\n",
       "      <td>755.932203</td>\n",
       "      <td>141.293559</td>\n",
       "      <td>142.865763</td>\n",
       "    </tr>\n",
       "  </tbody>\n",
       "</table>\n",
       "<p>5 rows × 26 columns</p>\n",
       "</div>"
      ],
      "text/plain": [
       "          npi                       nppes_provider_last_org_name  \\\n",
       "0           1  CPT copyright 2016 American Medical Associatio...   \n",
       "1  1003000126                                          ENKESHAFI   \n",
       "2  1003000126                                          ENKESHAFI   \n",
       "3  1003000126                                          ENKESHAFI   \n",
       "4  1003000126                                          ENKESHAFI   \n",
       "\n",
       "  nppes_provider_first_name nppes_provider_mi nppes_credentials  \\\n",
       "0                       NaN               NaN               NaN   \n",
       "1                   ARDALAN               NaN              M.D.   \n",
       "2                   ARDALAN               NaN              M.D.   \n",
       "3                   ARDALAN               NaN              M.D.   \n",
       "4                   ARDALAN               NaN              M.D.   \n",
       "\n",
       "  nppes_provider_gender nppes_entity_code nppes_provider_street1  \\\n",
       "0                   NaN               NaN                    NaN   \n",
       "1                     M                 I           900 SETON DR   \n",
       "2                     M                 I           900 SETON DR   \n",
       "3                     M                 I           900 SETON DR   \n",
       "4                     M                 I           900 SETON DR   \n",
       "\n",
       "  nppes_provider_street2 nppes_provider_city  ... hcpcs_code  \\\n",
       "0                    NaN                 NaN  ...        NaN   \n",
       "1                    NaN          CUMBERLAND  ...      99217   \n",
       "2                    NaN          CUMBERLAND  ...      99218   \n",
       "3                    NaN          CUMBERLAND  ...      99219   \n",
       "4                    NaN          CUMBERLAND  ...      99220   \n",
       "\n",
       "                                   hcpcs_description hcpcs_drug_indicator  \\\n",
       "0                                                NaN                  NaN   \n",
       "1                Hospital observation care discharge                    N   \n",
       "2     Hospital observation care typically 30 minutes                    N   \n",
       "3     Hospital observation care typically 50 minutes                    N   \n",
       "4  Hospital observation care typically 70 minutes...                    N   \n",
       "\n",
       "  line_srvc_cnt bene_unique_cnt bene_day_srvc_cnt  \\\n",
       "0           NaN             NaN               NaN   \n",
       "1         100.0            96.0             100.0   \n",
       "2          26.0            25.0              26.0   \n",
       "3          52.0            51.0              52.0   \n",
       "4          59.0            59.0              59.0   \n",
       "\n",
       "  average_Medicare_allowed_amt average_submitted_chrg_amt  \\\n",
       "0                          NaN                        NaN   \n",
       "1                    73.398800                 325.780000   \n",
       "2                   100.080000                 449.000000   \n",
       "3                   136.380000                 614.000000   \n",
       "4                   190.363729                 755.932203   \n",
       "\n",
       "  average_Medicare_payment_amt  average_Medicare_standard_amt  \n",
       "0                          NaN                            NaN  \n",
       "1                    56.827200                      57.492400  \n",
       "2                    78.460000                      79.306154  \n",
       "3                   102.807692                     103.895385  \n",
       "4                   141.293559                     142.865763  \n",
       "\n",
       "[5 rows x 26 columns]"
      ]
     },
     "execution_count": 2,
     "metadata": {},
     "output_type": "execute_result"
    }
   ],
   "source": [
    "data = pd.read_csv('../Medicare_Provider_Util_Payment_PUF_CY2017.csv', sep='\\t')\n",
    "print(data.shape)\n",
    "data.head()"
   ]
  },
  {
   "cell_type": "code",
   "execution_count": 3,
   "metadata": {},
   "outputs": [
    {
     "data": {
      "text/plain": [
       "Index(['npi', 'nppes_provider_last_org_name', 'nppes_provider_first_name',\n",
       "       'nppes_provider_mi', 'nppes_credentials', 'nppes_provider_gender',\n",
       "       'nppes_entity_code', 'nppes_provider_street1', 'nppes_provider_street2',\n",
       "       'nppes_provider_city', 'nppes_provider_zip', 'nppes_provider_state',\n",
       "       'nppes_provider_country', 'provider_type',\n",
       "       'medicare_participation_indicator', 'place_of_service', 'hcpcs_code',\n",
       "       'hcpcs_description', 'hcpcs_drug_indicator', 'line_srvc_cnt',\n",
       "       'bene_unique_cnt', 'bene_day_srvc_cnt', 'average_Medicare_allowed_amt',\n",
       "       'average_submitted_chrg_amt', 'average_Medicare_payment_amt',\n",
       "       'average_Medicare_standard_amt'],\n",
       "      dtype='object')"
      ]
     },
     "execution_count": 3,
     "metadata": {},
     "output_type": "execute_result"
    }
   ],
   "source": [
    "data.columns"
   ]
  },
  {
   "cell_type": "code",
   "execution_count": 4,
   "metadata": {},
   "outputs": [],
   "source": [
    "data.drop(['nppes_provider_last_org_name', 'nppes_provider_first_name', 'nppes_provider_mi', 'nppes_credentials',\\\n",
    "          'nppes_entity_code', 'nppes_provider_street1', 'nppes_provider_street2', 'nppes_provider_city',\\\n",
    "          'nppes_provider_zip', 'nppes_provider_state', 'nppes_provider_country', 'medicare_participation_indicator',\\\n",
    "           'place_of_service','hcpcs_drug_indicator', 'hcpcs_code', 'hcpcs_description'],inplace=True,axis=1)\n",
    "data.drop([0],inplace=True,axis=0)"
   ]
  },
  {
   "cell_type": "code",
   "execution_count": 5,
   "metadata": {},
   "outputs": [
    {
     "name": "stdout",
     "output_type": "stream",
     "text": [
      "(9847443, 10)\n"
     ]
    },
    {
     "data": {
      "text/html": [
       "<div>\n",
       "<style scoped>\n",
       "    .dataframe tbody tr th:only-of-type {\n",
       "        vertical-align: middle;\n",
       "    }\n",
       "\n",
       "    .dataframe tbody tr th {\n",
       "        vertical-align: top;\n",
       "    }\n",
       "\n",
       "    .dataframe thead th {\n",
       "        text-align: right;\n",
       "    }\n",
       "</style>\n",
       "<table border=\"1\" class=\"dataframe\">\n",
       "  <thead>\n",
       "    <tr style=\"text-align: right;\">\n",
       "      <th></th>\n",
       "      <th>npi</th>\n",
       "      <th>nppes_provider_gender</th>\n",
       "      <th>provider_type</th>\n",
       "      <th>line_srvc_cnt</th>\n",
       "      <th>bene_unique_cnt</th>\n",
       "      <th>bene_day_srvc_cnt</th>\n",
       "      <th>average_Medicare_allowed_amt</th>\n",
       "      <th>average_submitted_chrg_amt</th>\n",
       "      <th>average_Medicare_payment_amt</th>\n",
       "      <th>average_Medicare_standard_amt</th>\n",
       "    </tr>\n",
       "  </thead>\n",
       "  <tbody>\n",
       "    <tr>\n",
       "      <th>1</th>\n",
       "      <td>1003000126</td>\n",
       "      <td>M</td>\n",
       "      <td>Internal Medicine</td>\n",
       "      <td>100.0</td>\n",
       "      <td>96.0</td>\n",
       "      <td>100.0</td>\n",
       "      <td>73.398800</td>\n",
       "      <td>325.780000</td>\n",
       "      <td>56.827200</td>\n",
       "      <td>57.492400</td>\n",
       "    </tr>\n",
       "    <tr>\n",
       "      <th>2</th>\n",
       "      <td>1003000126</td>\n",
       "      <td>M</td>\n",
       "      <td>Internal Medicine</td>\n",
       "      <td>26.0</td>\n",
       "      <td>25.0</td>\n",
       "      <td>26.0</td>\n",
       "      <td>100.080000</td>\n",
       "      <td>449.000000</td>\n",
       "      <td>78.460000</td>\n",
       "      <td>79.306154</td>\n",
       "    </tr>\n",
       "    <tr>\n",
       "      <th>3</th>\n",
       "      <td>1003000126</td>\n",
       "      <td>M</td>\n",
       "      <td>Internal Medicine</td>\n",
       "      <td>52.0</td>\n",
       "      <td>51.0</td>\n",
       "      <td>52.0</td>\n",
       "      <td>136.380000</td>\n",
       "      <td>614.000000</td>\n",
       "      <td>102.807692</td>\n",
       "      <td>103.895385</td>\n",
       "    </tr>\n",
       "    <tr>\n",
       "      <th>4</th>\n",
       "      <td>1003000126</td>\n",
       "      <td>M</td>\n",
       "      <td>Internal Medicine</td>\n",
       "      <td>59.0</td>\n",
       "      <td>59.0</td>\n",
       "      <td>59.0</td>\n",
       "      <td>190.363729</td>\n",
       "      <td>755.932203</td>\n",
       "      <td>141.293559</td>\n",
       "      <td>142.865763</td>\n",
       "    </tr>\n",
       "    <tr>\n",
       "      <th>5</th>\n",
       "      <td>1003000126</td>\n",
       "      <td>M</td>\n",
       "      <td>Internal Medicine</td>\n",
       "      <td>16.0</td>\n",
       "      <td>16.0</td>\n",
       "      <td>16.0</td>\n",
       "      <td>101.680000</td>\n",
       "      <td>462.812500</td>\n",
       "      <td>79.710000</td>\n",
       "      <td>80.750000</td>\n",
       "    </tr>\n",
       "  </tbody>\n",
       "</table>\n",
       "</div>"
      ],
      "text/plain": [
       "          npi nppes_provider_gender      provider_type  line_srvc_cnt  \\\n",
       "1  1003000126                     M  Internal Medicine          100.0   \n",
       "2  1003000126                     M  Internal Medicine           26.0   \n",
       "3  1003000126                     M  Internal Medicine           52.0   \n",
       "4  1003000126                     M  Internal Medicine           59.0   \n",
       "5  1003000126                     M  Internal Medicine           16.0   \n",
       "\n",
       "   bene_unique_cnt  bene_day_srvc_cnt  average_Medicare_allowed_amt  \\\n",
       "1             96.0              100.0                     73.398800   \n",
       "2             25.0               26.0                    100.080000   \n",
       "3             51.0               52.0                    136.380000   \n",
       "4             59.0               59.0                    190.363729   \n",
       "5             16.0               16.0                    101.680000   \n",
       "\n",
       "   average_submitted_chrg_amt  average_Medicare_payment_amt  \\\n",
       "1                  325.780000                     56.827200   \n",
       "2                  449.000000                     78.460000   \n",
       "3                  614.000000                    102.807692   \n",
       "4                  755.932203                    141.293559   \n",
       "5                  462.812500                     79.710000   \n",
       "\n",
       "   average_Medicare_standard_amt  \n",
       "1                      57.492400  \n",
       "2                      79.306154  \n",
       "3                     103.895385  \n",
       "4                     142.865763  \n",
       "5                      80.750000  "
      ]
     },
     "execution_count": 5,
     "metadata": {},
     "output_type": "execute_result"
    }
   ],
   "source": [
    "print(data.shape)\n",
    "data.head()"
   ]
  },
  {
   "cell_type": "code",
   "execution_count": 6,
   "metadata": {},
   "outputs": [
    {
     "name": "stdout",
     "output_type": "stream",
     "text": [
      "6535107 2881018 431318\n",
      "3826241\n"
     ]
    }
   ],
   "source": [
    "provider_gender = []\n",
    "m = f = n = 0\n",
    "for x in data.iloc[:,1]:\n",
    "    if x =='M' or x == 'm':\n",
    "        provider_gender.append(1)\n",
    "        m += 1\n",
    "    elif x =='F' or x == 'f':\n",
    "        provider_gender.append(-1)\n",
    "        f += 1\n",
    "    else:\n",
    "        n += 1\n",
    "        if np.random.random()>0.7:\n",
    "            provider_gender.append(-1)\n",
    "        else:\n",
    "            provider_gender.append(+1)\n",
    "print(m,f,n)\n",
    "print(sum(provider_gender))\n",
    "# M = 6535107 F = 2881018 Null = 431318\n",
    "# So we randomly and with ratio of 2 to 1 (number of Ms to number of Fs) replace null gender with M and F\n",
    "data['nppes_provider_gender'] = provider_gender"
   ]
  },
  {
   "cell_type": "code",
   "execution_count": 7,
   "metadata": {},
   "outputs": [
    {
     "data": {
      "text/plain": [
       "0.6942771844427026"
      ]
     },
     "execution_count": 7,
     "metadata": {},
     "output_type": "execute_result"
    }
   ],
   "source": [
    "6836855 /(3010588 + 6836855)"
   ]
  },
  {
   "cell_type": "code",
   "execution_count": 8,
   "metadata": {},
   "outputs": [
    {
     "name": "stdout",
     "output_type": "stream",
     "text": [
      "(9847443, 10)\n"
     ]
    },
    {
     "data": {
      "text/html": [
       "<div>\n",
       "<style scoped>\n",
       "    .dataframe tbody tr th:only-of-type {\n",
       "        vertical-align: middle;\n",
       "    }\n",
       "\n",
       "    .dataframe tbody tr th {\n",
       "        vertical-align: top;\n",
       "    }\n",
       "\n",
       "    .dataframe thead th {\n",
       "        text-align: right;\n",
       "    }\n",
       "</style>\n",
       "<table border=\"1\" class=\"dataframe\">\n",
       "  <thead>\n",
       "    <tr style=\"text-align: right;\">\n",
       "      <th></th>\n",
       "      <th>npi</th>\n",
       "      <th>nppes_provider_gender</th>\n",
       "      <th>provider_type</th>\n",
       "      <th>line_srvc_cnt</th>\n",
       "      <th>bene_unique_cnt</th>\n",
       "      <th>bene_day_srvc_cnt</th>\n",
       "      <th>average_Medicare_allowed_amt</th>\n",
       "      <th>average_submitted_chrg_amt</th>\n",
       "      <th>average_Medicare_payment_amt</th>\n",
       "      <th>average_Medicare_standard_amt</th>\n",
       "    </tr>\n",
       "  </thead>\n",
       "  <tbody>\n",
       "    <tr>\n",
       "      <th>1</th>\n",
       "      <td>1003000126</td>\n",
       "      <td>1</td>\n",
       "      <td>Internal Medicine</td>\n",
       "      <td>100.0</td>\n",
       "      <td>96.0</td>\n",
       "      <td>100.0</td>\n",
       "      <td>73.398800</td>\n",
       "      <td>325.780000</td>\n",
       "      <td>56.827200</td>\n",
       "      <td>57.492400</td>\n",
       "    </tr>\n",
       "    <tr>\n",
       "      <th>2</th>\n",
       "      <td>1003000126</td>\n",
       "      <td>1</td>\n",
       "      <td>Internal Medicine</td>\n",
       "      <td>26.0</td>\n",
       "      <td>25.0</td>\n",
       "      <td>26.0</td>\n",
       "      <td>100.080000</td>\n",
       "      <td>449.000000</td>\n",
       "      <td>78.460000</td>\n",
       "      <td>79.306154</td>\n",
       "    </tr>\n",
       "    <tr>\n",
       "      <th>3</th>\n",
       "      <td>1003000126</td>\n",
       "      <td>1</td>\n",
       "      <td>Internal Medicine</td>\n",
       "      <td>52.0</td>\n",
       "      <td>51.0</td>\n",
       "      <td>52.0</td>\n",
       "      <td>136.380000</td>\n",
       "      <td>614.000000</td>\n",
       "      <td>102.807692</td>\n",
       "      <td>103.895385</td>\n",
       "    </tr>\n",
       "    <tr>\n",
       "      <th>4</th>\n",
       "      <td>1003000126</td>\n",
       "      <td>1</td>\n",
       "      <td>Internal Medicine</td>\n",
       "      <td>59.0</td>\n",
       "      <td>59.0</td>\n",
       "      <td>59.0</td>\n",
       "      <td>190.363729</td>\n",
       "      <td>755.932203</td>\n",
       "      <td>141.293559</td>\n",
       "      <td>142.865763</td>\n",
       "    </tr>\n",
       "    <tr>\n",
       "      <th>5</th>\n",
       "      <td>1003000126</td>\n",
       "      <td>1</td>\n",
       "      <td>Internal Medicine</td>\n",
       "      <td>16.0</td>\n",
       "      <td>16.0</td>\n",
       "      <td>16.0</td>\n",
       "      <td>101.680000</td>\n",
       "      <td>462.812500</td>\n",
       "      <td>79.710000</td>\n",
       "      <td>80.750000</td>\n",
       "    </tr>\n",
       "  </tbody>\n",
       "</table>\n",
       "</div>"
      ],
      "text/plain": [
       "          npi  nppes_provider_gender      provider_type  line_srvc_cnt  \\\n",
       "1  1003000126                      1  Internal Medicine          100.0   \n",
       "2  1003000126                      1  Internal Medicine           26.0   \n",
       "3  1003000126                      1  Internal Medicine           52.0   \n",
       "4  1003000126                      1  Internal Medicine           59.0   \n",
       "5  1003000126                      1  Internal Medicine           16.0   \n",
       "\n",
       "   bene_unique_cnt  bene_day_srvc_cnt  average_Medicare_allowed_amt  \\\n",
       "1             96.0              100.0                     73.398800   \n",
       "2             25.0               26.0                    100.080000   \n",
       "3             51.0               52.0                    136.380000   \n",
       "4             59.0               59.0                    190.363729   \n",
       "5             16.0               16.0                    101.680000   \n",
       "\n",
       "   average_submitted_chrg_amt  average_Medicare_payment_amt  \\\n",
       "1                  325.780000                     56.827200   \n",
       "2                  449.000000                     78.460000   \n",
       "3                  614.000000                    102.807692   \n",
       "4                  755.932203                    141.293559   \n",
       "5                  462.812500                     79.710000   \n",
       "\n",
       "   average_Medicare_standard_amt  \n",
       "1                      57.492400  \n",
       "2                      79.306154  \n",
       "3                     103.895385  \n",
       "4                     142.865763  \n",
       "5                      80.750000  "
      ]
     },
     "execution_count": 8,
     "metadata": {},
     "output_type": "execute_result"
    }
   ],
   "source": [
    "data.dropna(inplace=True)\n",
    "print(data.shape)\n",
    "data.head()"
   ]
  },
  {
   "cell_type": "code",
   "execution_count": 9,
   "metadata": {},
   "outputs": [],
   "source": [
    "# i = 0\n",
    "# countHCPCS = Counter(data['hcpcs_code'])\n",
    "\n",
    "# # for x in data.iloc[:,2]:\n",
    "# #     count.\n",
    "# print(countHCPCS)\n",
    "# len(countHCPCS)"
   ]
  },
  {
   "cell_type": "code",
   "execution_count": 11,
   "metadata": {},
   "outputs": [
    {
     "data": {
      "text/plain": [
       "9847443"
      ]
     },
     "execution_count": 11,
     "metadata": {},
     "output_type": "execute_result"
    }
   ],
   "source": [
    "i = 0\n",
    "countType = Counter(data['provider_type'])\n",
    "types = list(dict(countType).keys())\n",
    "intType = []\n",
    "for x in data.iloc[:,2]:\n",
    "    intType.append(types.index(x))\n",
    "len(intType)\n",
    "# print(count)\n",
    "# len(count)"
   ]
  },
  {
   "cell_type": "code",
   "execution_count": 12,
   "metadata": {},
   "outputs": [],
   "source": [
    "# data[data['provider_type']=='Medical Toxicology']"
   ]
  },
  {
   "cell_type": "code",
   "execution_count": null,
   "metadata": {},
   "outputs": [],
   "source": [
    "data['provider_type'] = intType"
   ]
  },
  {
   "cell_type": "code",
   "execution_count": null,
   "metadata": {},
   "outputs": [],
   "source": [
    "data.to_csv('../Medicare_Provider_Util_Payment_PUF_CY2017_revised.csv',index=False)"
   ]
  },
  {
   "cell_type": "code",
   "execution_count": null,
   "metadata": {},
   "outputs": [],
   "source": [
    "del data\n"
   ]
  },
  {
   "cell_type": "code",
   "execution_count": null,
   "metadata": {},
   "outputs": [],
   "source": [
    "data = pd.read_csv('../Medicare_Provider_Util_Payment_PUF_CY2017_revised.csv')"
   ]
  },
  {
   "cell_type": "code",
   "execution_count": null,
   "metadata": {},
   "outputs": [],
   "source": [
    "fraudData = pd.read_csv('data/UPDATED.csv')\n",
    "print(fraudData.shape)\n",
    "fraudData.head()"
   ]
  },
  {
   "cell_type": "code",
   "execution_count": null,
   "metadata": {},
   "outputs": [],
   "source": [
    "index = []\n",
    "i = 0\n",
    "for x in fraudData['NPI']:\n",
    "    try:\n",
    "        int(float(x))\n",
    "    except:\n",
    "        i += 1\n",
    "    if len(str(x))==10:\n",
    "        index.append(i)\n",
    "    i += 1\n",
    "print(len(index))\n",
    "cleaFraud = fraudData.loc[index,['NPI','EXCLTYPE']]"
   ]
  },
  {
   "cell_type": "code",
   "execution_count": null,
   "metadata": {},
   "outputs": [],
   "source": [
    "fraudLabel = list(cleaFraud['EXCLTYPE'])\n",
    "\n",
    "i = 0\n",
    "for x in fraudLabel:\n",
    "    fraudLabel[i] = x.replace(' ','')\n",
    "    i += 1\n",
    "print(len(fraudLabel))\n",
    "Counter(fraudLabel)"
   ]
  },
  {
   "cell_type": "code",
   "execution_count": null,
   "metadata": {},
   "outputs": [],
   "source": [
    "classlabel = []\n",
    "labels = ['1128a1','1128a2','1128a3','1128b4','1128c3gi','1128c3gi']\n",
    "for x in fraudLabel:\n",
    "    if str(x) in labels:\n",
    "        classlabel.append(1)\n",
    "    else:\n",
    "        classlabel.append(0)\n",
    "print(len(classlabel), sum(classlabel))\n",
    "cleaFraud['fraud_label'] = classlabel\n",
    "cleaFraud.drop(['EXCLTYPE'],inplace=True,axis=1)\n",
    "cleaFraud.columns = ['npi', 'fraud_label']\n",
    "cleaFraud.head()"
   ]
  },
  {
   "cell_type": "code",
   "execution_count": null,
   "metadata": {},
   "outputs": [],
   "source": [
    "cleaFraud.to_csv('LEIE Exclusion.csv',index=False)"
   ]
  },
  {
   "cell_type": "code",
   "execution_count": null,
   "metadata": {},
   "outputs": [],
   "source": [
    "mergedData = pd.merge(cleaFraud, data, on='npi',how='inner')\n",
    "print(mergedData.shape, sum(mergedData['fraud_label']))\n",
    "mergedData.head()\n"
   ]
  },
  {
   "cell_type": "code",
   "execution_count": null,
   "metadata": {},
   "outputs": [],
   "source": [
    "mergedData.to_csv('provider features and fraud labels.csv', index=False)"
   ]
  },
  {
   "cell_type": "code",
   "execution_count": null,
   "metadata": {},
   "outputs": [],
   "source": []
  }
 ],
 "metadata": {
  "kernelspec": {
   "display_name": "Python 3",
   "language": "python",
   "name": "python3"
  },
  "language_info": {
   "codemirror_mode": {
    "name": "ipython",
    "version": 3
   },
   "file_extension": ".py",
   "mimetype": "text/x-python",
   "name": "python",
   "nbconvert_exporter": "python",
   "pygments_lexer": "ipython3",
   "version": "3.6.9"
  }
 },
 "nbformat": 4,
 "nbformat_minor": 2
}
