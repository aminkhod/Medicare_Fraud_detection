{
 "cells": [
  {
   "cell_type": "code",
   "execution_count": null,
   "metadata": {},
   "outputs": [],
   "source": [
    "import pandas as pd\n",
    "import numpy as np\n",
    "from collections import Counter"
   ]
  },
  {
   "cell_type": "code",
   "execution_count": null,
   "metadata": {},
   "outputs": [],
   "source": [
    "data = pd.read_csv('../Medicare_Provider_Util_Payment_PUF_CY2017.csv', sep='\\t')\n",
    "print(data.shape)\n",
    "data.head()"
   ]
  },
  {
   "cell_type": "code",
   "execution_count": null,
   "metadata": {},
   "outputs": [],
   "source": [
    "data.columns"
   ]
  },
  {
   "cell_type": "code",
   "execution_count": null,
   "metadata": {},
   "outputs": [],
   "source": [
    "data.drop(['nppes_provider_last_org_name', 'nppes_provider_first_name', 'nppes_provider_mi', 'nppes_credentials',\\\n",
    "          'nppes_entity_code', 'nppes_provider_street1', 'nppes_provider_street2', 'nppes_provider_city',\\\n",
    "          'nppes_provider_zip', 'nppes_provider_state', 'nppes_provider_country', 'medicare_participation_indicator',\\\n",
    "           'place_of_service','hcpcs_drug_indicator', 'hcpcs_code', 'hcpcs_description'],inplace=True,axis=1)\n",
    "data.drop([0],inplace=True,axis=0)"
   ]
  },
  {
   "cell_type": "code",
   "execution_count": null,
   "metadata": {},
   "outputs": [],
   "source": [
    "print(data.shape)\n",
    "data.head()"
   ]
  },
  {
   "cell_type": "code",
   "execution_count": null,
   "metadata": {},
   "outputs": [],
   "source": [
    "provider_gender = []\n",
    "m = f = n = 0\n",
    "for x in data.iloc[:,1]:\n",
    "    if x =='M' or x == 'm':\n",
    "        provider_gender.append(1)\n",
    "        m += 1\n",
    "    elif x =='F' or x == 'f':\n",
    "        provider_gender.append(-1)\n",
    "        f += 1\n",
    "    else:\n",
    "        n += 1\n",
    "        if np.random.random()>0.7:\n",
    "            provider_gender.append(-1)\n",
    "        else:\n",
    "            provider_gender.append(+1)\n",
    "print(m,f,n)\n",
    "print(sum(provider_gender))\n",
    "# M = 6535107 F = 2881018 Null = 431318\n",
    "# So we randomly and with ratio of 2 to 1 (number of Ms to number of Fs) replace null gender with M and F\n",
    "data['nppes_provider_gender'] = provider_gender"
   ]
  },
  {
   "cell_type": "code",
   "execution_count": null,
   "metadata": {},
   "outputs": [],
   "source": [
    "6836855 /(3010588 + 6836855)"
   ]
  },
  {
   "cell_type": "code",
   "execution_count": null,
   "metadata": {},
   "outputs": [],
   "source": [
    "data.dropna(inplace=True)\n",
    "print(data.shape)\n",
    "data.head()"
   ]
  },
  {
   "cell_type": "code",
   "execution_count": null,
   "metadata": {},
   "outputs": [],
   "source": [
    "# i = 0\n",
    "# countHCPCS = Counter(data['hcpcs_code'])\n",
    "\n",
    "# # for x in data.iloc[:,2]:\n",
    "# #     count.\n",
    "# print(countHCPCS)\n",
    "# len(countHCPCS)"
   ]
  },
  {
   "cell_type": "code",
   "execution_count": null,
   "metadata": {},
   "outputs": [],
   "source": [
    "i = 0\n",
    "countType = Counter(data['provider_type'])\n",
    "types = list(dict(count).keys())\n",
    "intType = []\n",
    "for x in data.iloc[:,2]:\n",
    "    intType.append(types.index(x))\n",
    "len(intType)\n",
    "# print(count)\n",
    "# len(count)"
   ]
  },
  {
   "cell_type": "code",
   "execution_count": null,
   "metadata": {},
   "outputs": [],
   "source": [
    "# data[data['provider_type']=='Medical Toxicology']"
   ]
  },
  {
   "cell_type": "code",
   "execution_count": null,
   "metadata": {},
   "outputs": [],
   "source": [
    "data['provider_type'] = intType"
   ]
  },
  {
   "cell_type": "code",
   "execution_count": null,
   "metadata": {},
   "outputs": [],
   "source": [
    "data.to_csv('../Medicare_Provider_Util_Payment_PUF_CY2017_revised.csv',index=False)"
   ]
  },
  {
   "cell_type": "code",
   "execution_count": null,
   "metadata": {},
   "outputs": [],
   "source": [
    "del data\n"
   ]
  },
  {
   "cell_type": "code",
   "execution_count": null,
   "metadata": {},
   "outputs": [],
   "source": [
    "data = pd.read_csv('../Medicare_Provider_Util_Payment_PUF_CY2017_revised.csv')"
   ]
  },
  {
   "cell_type": "code",
   "execution_count": null,
   "metadata": {},
   "outputs": [],
   "source": [
    "fraudData = pd.read_csv('data/UPDATED.csv')\n",
    "print(fraudData.shape)\n",
    "fraudData.head()"
   ]
  },
  {
   "cell_type": "code",
   "execution_count": null,
   "metadata": {},
   "outputs": [],
   "source": [
    "index = []\n",
    "i = 0\n",
    "for x in fraudData['NPI']:\n",
    "    try:\n",
    "        int(float(x))\n",
    "    except:\n",
    "        i += 1\n",
    "    if len(str(x))==10:\n",
    "        index.append(i)\n",
    "    i += 1\n",
    "print(len(index))\n",
    "cleaFraud = fraudData.loc[index,['NPI','EXCLTYPE']]"
   ]
  },
  {
   "cell_type": "code",
   "execution_count": null,
   "metadata": {},
   "outputs": [],
   "source": [
    "fraudLabel = list(cleaFraud['EXCLTYPE'])\n",
    "\n",
    "i = 0\n",
    "for x in fraudLabel:\n",
    "    fraudLabel[i] = x.replace(' ','')\n",
    "    i += 1\n",
    "print(len(fraudLabel))\n",
    "Counter(fraudLabel)"
   ]
  },
  {
   "cell_type": "code",
   "execution_count": null,
   "metadata": {},
   "outputs": [],
   "source": [
    "classlabel = []\n",
    "labels = ['1128a1','1128a2','1128a3','1128b4','1128c3gi','1128c3gi']\n",
    "for x in fraudLabel:\n",
    "    if str(x) in labels:\n",
    "        classlabel.append(1)\n",
    "    else:\n",
    "        classlabel.append(0)\n",
    "print(len(classlabel), sum(classlabel))\n",
    "cleaFraud['fraud_label'] = classlabel\n",
    "cleaFraud.drop(['EXCLTYPE'],inplace=True,axis=1)\n",
    "cleaFraud.columns = ['npi', 'fraud_label']\n",
    "cleaFraud.head()"
   ]
  },
  {
   "cell_type": "code",
   "execution_count": null,
   "metadata": {},
   "outputs": [],
   "source": [
    "cleaFraud.to_csv('LEIE Exclusion.csv',index=False)"
   ]
  },
  {
   "cell_type": "code",
   "execution_count": null,
   "metadata": {},
   "outputs": [],
   "source": [
    "mergedData = pd.merge(cleaFraud, data, on='npi',how='inner')\n",
    "print(mergedData.shape, sum(mergedData['fraud_label']))\n",
    "mergedData.head()\n"
   ]
  },
  {
   "cell_type": "code",
   "execution_count": null,
   "metadata": {},
   "outputs": [],
   "source": [
    "mergedData.to_csv('provider features and fraud labels.csv', index=False)"
   ]
  },
  {
   "cell_type": "code",
   "execution_count": null,
   "metadata": {},
   "outputs": [],
   "source": []
  }
 ],
 "metadata": {
  "kernelspec": {
   "display_name": "Python 3",
   "language": "python",
   "name": "python3"
  },
  "language_info": {
   "codemirror_mode": {
    "name": "ipython",
    "version": 3
   },
   "file_extension": ".py",
   "mimetype": "text/x-python",
   "name": "python",
   "nbconvert_exporter": "python",
   "pygments_lexer": "ipython3",
   "version": "3.6.9"
  }
 },
 "nbformat": 4,
 "nbformat_minor": 2
}
