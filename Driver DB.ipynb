{
 "cells": [
  {
   "cell_type": "code",
   "execution_count": 11,
   "metadata": {},
   "outputs": [],
   "source": [
    "import pandas as pd\n",
    "import numpy as np"
   ]
  },
  {
   "cell_type": "code",
   "execution_count": 12,
   "metadata": {},
   "outputs": [],
   "source": [
    "# data = pd.read_excel('2014 to 2017.xlsx')\\\n",
    "# .append(pd.read_excel('2018.xlsx'))\\\n",
    "# .append(pd.read_excel('2019.xlsx'))\\\n",
    "# .append(pd.read_excel('2020.xlsx'))\n",
    "# data.head()"
   ]
  },
  {
   "cell_type": "code",
   "execution_count": 13,
   "metadata": {},
   "outputs": [],
   "source": [
    "# data.to_csv('allDriver.csv',index=False)\n"
   ]
  },
  {
   "cell_type": "code",
   "execution_count": 14,
   "metadata": {},
   "outputs": [],
   "source": [
    "# del data"
   ]
  },
  {
   "cell_type": "code",
   "execution_count": 15,
   "metadata": {},
   "outputs": [
    {
     "data": {
      "text/html": [
       "<div>\n",
       "<style scoped>\n",
       "    .dataframe tbody tr th:only-of-type {\n",
       "        vertical-align: middle;\n",
       "    }\n",
       "\n",
       "    .dataframe tbody tr th {\n",
       "        vertical-align: top;\n",
       "    }\n",
       "\n",
       "    .dataframe thead th {\n",
       "        text-align: right;\n",
       "    }\n",
       "</style>\n",
       "<table border=\"1\" class=\"dataframe\">\n",
       "  <thead>\n",
       "    <tr style=\"text-align: right;\">\n",
       "      <th></th>\n",
       "      <th>id</th>\n",
       "      <th>areacode</th>\n",
       "      <th>Type</th>\n",
       "    </tr>\n",
       "  </thead>\n",
       "  <tbody>\n",
       "    <tr>\n",
       "      <th>0</th>\n",
       "      <td>1</td>\n",
       "      <td>THR</td>\n",
       "      <td>Dual</td>\n",
       "    </tr>\n",
       "    <tr>\n",
       "      <th>1</th>\n",
       "      <td>9</td>\n",
       "      <td>THR</td>\n",
       "      <td>Dual</td>\n",
       "    </tr>\n",
       "    <tr>\n",
       "      <th>2</th>\n",
       "      <td>10</td>\n",
       "      <td>THR</td>\n",
       "      <td>Exclusive</td>\n",
       "    </tr>\n",
       "    <tr>\n",
       "      <th>3</th>\n",
       "      <td>12</td>\n",
       "      <td>THR</td>\n",
       "      <td>Exclusive</td>\n",
       "    </tr>\n",
       "    <tr>\n",
       "      <th>4</th>\n",
       "      <td>18</td>\n",
       "      <td>THR</td>\n",
       "      <td>Exclusive</td>\n",
       "    </tr>\n",
       "  </tbody>\n",
       "</table>\n",
       "</div>"
      ],
      "text/plain": [
       "   id areacode       Type\n",
       "0   1      THR       Dual\n",
       "1   9      THR       Dual\n",
       "2  10      THR  Exclusive\n",
       "3  12      THR  Exclusive\n",
       "4  18      THR  Exclusive"
      ]
     },
     "execution_count": 15,
     "metadata": {},
     "output_type": "execute_result"
    }
   ],
   "source": [
    "DualExclusive = pd.read_excel('DualExclusive.xlsx')\n",
    "DualExclusive.drop(['Drivers Phone'], axis=1, inplace=True)\n",
    "DualExclusive.columns = ['id', 'areacode', 'Type']\n",
    "DualExclusive.head()"
   ]
  },
  {
   "cell_type": "code",
   "execution_count": 16,
   "metadata": {},
   "outputs": [
    {
     "name": "stderr",
     "output_type": "stream",
     "text": [
      "c:\\program files\\python36\\lib\\site-packages\\IPython\\core\\interactiveshell.py:3072: DtypeWarning: Columns (1) have mixed types.Specify dtype option on import or set low_memory=False.\n",
      "  interactivity=interactivity, compiler=compiler, result=result)\n"
     ]
    },
    {
     "data": {
      "text/html": [
       "<div>\n",
       "<style scoped>\n",
       "    .dataframe tbody tr th:only-of-type {\n",
       "        vertical-align: middle;\n",
       "    }\n",
       "\n",
       "    .dataframe tbody tr th {\n",
       "        vertical-align: top;\n",
       "    }\n",
       "\n",
       "    .dataframe thead th {\n",
       "        text-align: right;\n",
       "    }\n",
       "</style>\n",
       "<table border=\"1\" class=\"dataframe\">\n",
       "  <thead>\n",
       "    <tr style=\"text-align: right;\">\n",
       "      <th></th>\n",
       "      <th>id</th>\n",
       "      <th>Drivers Phone</th>\n",
       "      <th>national_code</th>\n",
       "    </tr>\n",
       "  </thead>\n",
       "  <tbody>\n",
       "    <tr>\n",
       "      <th>0</th>\n",
       "      <td>1</td>\n",
       "      <td>+989125701643</td>\n",
       "      <td>4.402930e+08</td>\n",
       "    </tr>\n",
       "    <tr>\n",
       "      <th>1</th>\n",
       "      <td>2</td>\n",
       "      <td>+989306361180</td>\n",
       "      <td>NaN</td>\n",
       "    </tr>\n",
       "    <tr>\n",
       "      <th>2</th>\n",
       "      <td>3</td>\n",
       "      <td>+989128056534</td>\n",
       "      <td>2.218211e+09</td>\n",
       "    </tr>\n",
       "    <tr>\n",
       "      <th>3</th>\n",
       "      <td>4</td>\n",
       "      <td>+989199399204</td>\n",
       "      <td>NaN</td>\n",
       "    </tr>\n",
       "    <tr>\n",
       "      <th>4</th>\n",
       "      <td>5</td>\n",
       "      <td>+989353044009</td>\n",
       "      <td>NaN</td>\n",
       "    </tr>\n",
       "  </tbody>\n",
       "</table>\n",
       "</div>"
      ],
      "text/plain": [
       "   id  Drivers Phone  national_code\n",
       "0   1  +989125701643   4.402930e+08\n",
       "1   2  +989306361180            NaN\n",
       "2   3  +989128056534   2.218211e+09\n",
       "3   4  +989199399204            NaN\n",
       "4   5  +989353044009            NaN"
      ]
     },
     "execution_count": 16,
     "metadata": {},
     "output_type": "execute_result"
    }
   ],
   "source": [
    "allDriver = pd.read_csv('allDriver.csv')\n",
    "allDriver.head()"
   ]
  },
  {
   "cell_type": "code",
   "execution_count": 17,
   "metadata": {},
   "outputs": [
    {
     "name": "stdout",
     "output_type": "stream",
     "text": [
      "(887033, 3) (2202440, 3)\n"
     ]
    }
   ],
   "source": [
    "print(DualExclusive.shape,allDriver.shape)"
   ]
  },
  {
   "cell_type": "code",
   "execution_count": 18,
   "metadata": {},
   "outputs": [],
   "source": [
    "# df_merge_difkey = pd.merge(DualExclusive, allDriver, left_on='ID',  right_on='id')\n",
    "# # df_merge_difkey.drop('ID', axis=1, inplace=True)\n",
    "# df_merge_difkey.shape"
   ]
  },
  {
   "cell_type": "code",
   "execution_count": 19,
   "metadata": {},
   "outputs": [
    {
     "data": {
      "text/plain": [
       "(2202440, 5)"
      ]
     },
     "execution_count": 19,
     "metadata": {},
     "output_type": "execute_result"
    }
   ],
   "source": [
    "df_merge_difkey = pd.merge(allDriver, DualExclusive, on='id',how='left')\n",
    "df_merge_difkey.shape"
   ]
  },
  {
   "cell_type": "code",
   "execution_count": 20,
   "metadata": {},
   "outputs": [
    {
     "data": {
      "text/html": [
       "<div>\n",
       "<style scoped>\n",
       "    .dataframe tbody tr th:only-of-type {\n",
       "        vertical-align: middle;\n",
       "    }\n",
       "\n",
       "    .dataframe tbody tr th {\n",
       "        vertical-align: top;\n",
       "    }\n",
       "\n",
       "    .dataframe thead th {\n",
       "        text-align: right;\n",
       "    }\n",
       "</style>\n",
       "<table border=\"1\" class=\"dataframe\">\n",
       "  <thead>\n",
       "    <tr style=\"text-align: right;\">\n",
       "      <th></th>\n",
       "      <th>id</th>\n",
       "      <th>Drivers Phone</th>\n",
       "      <th>national_code</th>\n",
       "      <th>areacode</th>\n",
       "      <th>Type</th>\n",
       "    </tr>\n",
       "  </thead>\n",
       "  <tbody>\n",
       "    <tr>\n",
       "      <th>0</th>\n",
       "      <td>1</td>\n",
       "      <td>+989125701643</td>\n",
       "      <td>4.402930e+08</td>\n",
       "      <td>THR</td>\n",
       "      <td>Dual</td>\n",
       "    </tr>\n",
       "    <tr>\n",
       "      <th>1</th>\n",
       "      <td>2</td>\n",
       "      <td>+989306361180</td>\n",
       "      <td>NaN</td>\n",
       "      <td>NaN</td>\n",
       "      <td>NaN</td>\n",
       "    </tr>\n",
       "    <tr>\n",
       "      <th>2</th>\n",
       "      <td>3</td>\n",
       "      <td>+989128056534</td>\n",
       "      <td>2.218211e+09</td>\n",
       "      <td>NaN</td>\n",
       "      <td>NaN</td>\n",
       "    </tr>\n",
       "    <tr>\n",
       "      <th>3</th>\n",
       "      <td>4</td>\n",
       "      <td>+989199399204</td>\n",
       "      <td>NaN</td>\n",
       "      <td>NaN</td>\n",
       "      <td>NaN</td>\n",
       "    </tr>\n",
       "    <tr>\n",
       "      <th>4</th>\n",
       "      <td>5</td>\n",
       "      <td>+989353044009</td>\n",
       "      <td>NaN</td>\n",
       "      <td>NaN</td>\n",
       "      <td>NaN</td>\n",
       "    </tr>\n",
       "  </tbody>\n",
       "</table>\n",
       "</div>"
      ],
      "text/plain": [
       "   id  Drivers Phone  national_code areacode  Type\n",
       "0   1  +989125701643   4.402930e+08      THR  Dual\n",
       "1   2  +989306361180            NaN      NaN   NaN\n",
       "2   3  +989128056534   2.218211e+09      NaN   NaN\n",
       "3   4  +989199399204            NaN      NaN   NaN\n",
       "4   5  +989353044009            NaN      NaN   NaN"
      ]
     },
     "execution_count": 20,
     "metadata": {},
     "output_type": "execute_result"
    }
   ],
   "source": [
    "df_merge_difkey.head()"
   ]
  },
  {
   "cell_type": "code",
   "execution_count": 21,
   "metadata": {},
   "outputs": [
    {
     "data": {
      "text/html": [
       "<div>\n",
       "<style scoped>\n",
       "    .dataframe tbody tr th:only-of-type {\n",
       "        vertical-align: middle;\n",
       "    }\n",
       "\n",
       "    .dataframe tbody tr th {\n",
       "        vertical-align: top;\n",
       "    }\n",
       "\n",
       "    .dataframe thead th {\n",
       "        text-align: right;\n",
       "    }\n",
       "</style>\n",
       "<table border=\"1\" class=\"dataframe\">\n",
       "  <thead>\n",
       "    <tr style=\"text-align: right;\">\n",
       "      <th></th>\n",
       "      <th>id</th>\n",
       "      <th>area_code</th>\n",
       "      <th>Drivers Phone</th>\n",
       "      <th>Rides</th>\n",
       "    </tr>\n",
       "  </thead>\n",
       "  <tbody>\n",
       "    <tr>\n",
       "      <th>0</th>\n",
       "      <td>1</td>\n",
       "      <td>THR</td>\n",
       "      <td>9.891260e+11</td>\n",
       "      <td>2</td>\n",
       "    </tr>\n",
       "    <tr>\n",
       "      <th>1</th>\n",
       "      <td>10</td>\n",
       "      <td>THR</td>\n",
       "      <td>9.891280e+11</td>\n",
       "      <td>1</td>\n",
       "    </tr>\n",
       "    <tr>\n",
       "      <th>2</th>\n",
       "      <td>10000</td>\n",
       "      <td>THR</td>\n",
       "      <td>9.893550e+11</td>\n",
       "      <td>1</td>\n",
       "    </tr>\n",
       "    <tr>\n",
       "      <th>3</th>\n",
       "      <td>1000000</td>\n",
       "      <td>GOL</td>\n",
       "      <td>9.891060e+11</td>\n",
       "      <td>3</td>\n",
       "    </tr>\n",
       "    <tr>\n",
       "      <th>4</th>\n",
       "      <td>1000002</td>\n",
       "      <td>KSH</td>\n",
       "      <td>9.893320e+11</td>\n",
       "      <td>232</td>\n",
       "    </tr>\n",
       "  </tbody>\n",
       "</table>\n",
       "</div>"
      ],
      "text/plain": [
       "        id area_code  Drivers Phone  Rides\n",
       "0        1       THR   9.891260e+11      2\n",
       "1       10       THR   9.891280e+11      1\n",
       "2    10000       THR   9.893550e+11      1\n",
       "3  1000000       GOL   9.891060e+11      3\n",
       "4  1000002       KSH   9.893320e+11    232"
      ]
     },
     "execution_count": 21,
     "metadata": {},
     "output_type": "execute_result"
    }
   ],
   "source": [
    "ID_City = pd.read_csv('ID-City-25-Jul.csv')\n",
    "Code = ID_City['area_code']\n",
    "# ID_City.drop(['Drivers Phone','Rides','area_code'], axis=1, inplace=True)\n",
    "ID_City.head()"
   ]
  },
  {
   "cell_type": "code",
   "execution_count": 22,
   "metadata": {},
   "outputs": [],
   "source": [
    "\n",
    "# ids = []\n",
    "# for i in range(len(df_merge_difkey.iloc[:,0])):\n",
    "#     try:\n",
    "#         ids.append(int(df_merge_difkey.loc[i,'id']))            \n",
    "#     except:\n",
    "#         ids.append(int(df_merge_difkey.loc[i,'ID']))\n",
    "#     if i% 100000 == 0:\n",
    "#         print('Hey'+str(i))\n",
    "\n",
    "# print(len(ids))\n"
   ]
  },
  {
   "cell_type": "code",
   "execution_count": 23,
   "metadata": {},
   "outputs": [],
   "source": [
    "# df_merge_difkey['id'] = ids\n",
    "df_merge_difkey.to_csv('DriverDB.csv', index=False)"
   ]
  },
  {
   "cell_type": "code",
   "execution_count": 2,
   "metadata": {},
   "outputs": [],
   "source": [
    "import pandas as pd\n",
    "import numpy as np"
   ]
  },
  {
   "cell_type": "code",
   "execution_count": 3,
   "metadata": {},
   "outputs": [
    {
     "name": "stderr",
     "output_type": "stream",
     "text": [
      "c:\\program files\\python36\\lib\\site-packages\\IPython\\core\\interactiveshell.py:3072: DtypeWarning: Columns (1) have mixed types.Specify dtype option on import or set low_memory=False.\n",
      "  interactivity=interactivity, compiler=compiler, result=result)\n"
     ]
    }
   ],
   "source": [
    "df_merge_difkey = pd.read_csv('DriverDB.csv')"
   ]
  },
  {
   "cell_type": "code",
   "execution_count": 4,
   "metadata": {},
   "outputs": [
    {
     "name": "stdout",
     "output_type": "stream",
     "text": [
      "Hey01\n",
      "Hey100000100001\n",
      "Hey200000200001\n",
      "Hey300000300001\n",
      "Hey400000400001\n",
      "Hey500000500001\n",
      "Hey600000600001\n",
      "Hey700000700001\n",
      "Hey800000800001\n",
      "Hey900000900001\n",
      "Hey10000001000001\n",
      "Hey11000001100001\n",
      "Hey12000001200001\n",
      "Hey13000001300001\n",
      "Hey14000001400001\n",
      "Hey15000001500001\n",
      "Hey16000001600001\n",
      "Hey17000001700001\n",
      "Hey18000001800001\n",
      "Hey19000001900001\n",
      "Hey20000002000001\n",
      "Hey21000002100001\n",
      "Hey22000002200001\n",
      "2202440\n"
     ]
    },
    {
     "data": {
      "text/plain": [
       "2202440"
      ]
     },
     "execution_count": 4,
     "metadata": {},
     "output_type": "execute_result"
    }
   ],
   "source": [
    "areaCode = []\n",
    "for i in range(len(df_merge_difkey.iloc[:,0])):\n",
    "\n",
    "    if type(df_merge_difkey.loc[i,'areacode']) != type(1.0):\n",
    "        areaCode.append(df_merge_difkey.loc[i,'areacode'])\n",
    "    else:\n",
    "        try:\n",
    "            areaCode.append(ID_City['area_code'][ID_City['id']==df_merge_difkey.loc[i,'id']])\n",
    "        except:\n",
    "            areaCode.append(np.nan)\n",
    "    if i% 100000 == 0:\n",
    "        print('Hey'+str(i)+str(len(areaCode)))\n",
    "print(len(areaCode))\n",
    "len(df_merge_difkey.iloc[:,0])"
   ]
  },
  {
   "cell_type": "code",
   "execution_count": 5,
   "metadata": {},
   "outputs": [
    {
     "name": "stdout",
     "output_type": "stream",
     "text": [
      "Hey01\n",
      "Hey100000100001\n",
      "Hey200000200001\n",
      "Hey300000300001\n",
      "Hey400000400001\n",
      "Hey500000500001\n",
      "Hey600000600001\n",
      "Hey700000700001\n",
      "Hey800000800001\n",
      "Hey900000900001\n",
      "Hey10000001000001\n",
      "Hey11000001100001\n",
      "Hey12000001200001\n",
      "Hey13000001300001\n",
      "Hey14000001400001\n",
      "Hey15000001500001\n",
      "Hey16000001600001\n",
      "Hey17000001700001\n",
      "Hey18000001800001\n",
      "Hey19000001900001\n",
      "Hey20000002000001\n",
      "Hey21000002100001\n",
      "Hey22000002200001\n",
      "2202440\n"
     ]
    },
    {
     "data": {
      "text/plain": [
       "2202440"
      ]
     },
     "execution_count": 5,
     "metadata": {},
     "output_type": "execute_result"
    }
   ],
   "source": [
    "Type = []\n",
    "for i in range(len(df_merge_difkey.iloc[:,0])):\n",
    "\n",
    "    if type(df_merge_difkey.loc[i,'Type']) != type(1.0):\n",
    "        Type.append(df_merge_difkey.loc[i,'Type'])\n",
    "    else:\n",
    "        Type.append(\"Exclusive\")\n",
    "    if i% 100000 == 0:\n",
    "        print('Hey'+str(i)+str(len(Type)))\n",
    "print(len(Type))\n",
    "len(df_merge_difkey.iloc[:,0])"
   ]
  },
  {
   "cell_type": "code",
   "execution_count": 6,
   "metadata": {},
   "outputs": [
    {
     "data": {
      "text/plain": [
       "2202440"
      ]
     },
     "execution_count": 6,
     "metadata": {},
     "output_type": "execute_result"
    }
   ],
   "source": [
    "len(df_merge_difkey.iloc[:,0])"
   ]
  },
  {
   "cell_type": "code",
   "execution_count": 7,
   "metadata": {},
   "outputs": [],
   "source": [
    "df_merge_difkey['areacode'], df_merge_difkey['Type'] = areaCode, Type\n",
    "# df_merge_difkey.drop('ID', axis=1, inplace=True)\n"
   ]
  },
  {
   "cell_type": "code",
   "execution_count": 8,
   "metadata": {},
   "outputs": [
    {
     "data": {
      "text/html": [
       "<div>\n",
       "<style scoped>\n",
       "    .dataframe tbody tr th:only-of-type {\n",
       "        vertical-align: middle;\n",
       "    }\n",
       "\n",
       "    .dataframe tbody tr th {\n",
       "        vertical-align: top;\n",
       "    }\n",
       "\n",
       "    .dataframe thead th {\n",
       "        text-align: right;\n",
       "    }\n",
       "</style>\n",
       "<table border=\"1\" class=\"dataframe\">\n",
       "  <thead>\n",
       "    <tr style=\"text-align: right;\">\n",
       "      <th></th>\n",
       "      <th>id</th>\n",
       "      <th>Drivers Phone</th>\n",
       "      <th>national_code</th>\n",
       "      <th>areacode</th>\n",
       "      <th>Type</th>\n",
       "    </tr>\n",
       "  </thead>\n",
       "  <tbody>\n",
       "    <tr>\n",
       "      <th>0</th>\n",
       "      <td>1</td>\n",
       "      <td>+989125701643</td>\n",
       "      <td>4.402930e+08</td>\n",
       "      <td>THR</td>\n",
       "      <td>Dual</td>\n",
       "    </tr>\n",
       "    <tr>\n",
       "      <th>1</th>\n",
       "      <td>2</td>\n",
       "      <td>+989306361180</td>\n",
       "      <td>NaN</td>\n",
       "      <td>NaN</td>\n",
       "      <td>Exclusive</td>\n",
       "    </tr>\n",
       "    <tr>\n",
       "      <th>2</th>\n",
       "      <td>3</td>\n",
       "      <td>+989128056534</td>\n",
       "      <td>2.218211e+09</td>\n",
       "      <td>NaN</td>\n",
       "      <td>Exclusive</td>\n",
       "    </tr>\n",
       "    <tr>\n",
       "      <th>3</th>\n",
       "      <td>4</td>\n",
       "      <td>+989199399204</td>\n",
       "      <td>NaN</td>\n",
       "      <td>NaN</td>\n",
       "      <td>Exclusive</td>\n",
       "    </tr>\n",
       "    <tr>\n",
       "      <th>4</th>\n",
       "      <td>5</td>\n",
       "      <td>+989353044009</td>\n",
       "      <td>NaN</td>\n",
       "      <td>NaN</td>\n",
       "      <td>Exclusive</td>\n",
       "    </tr>\n",
       "  </tbody>\n",
       "</table>\n",
       "</div>"
      ],
      "text/plain": [
       "   id  Drivers Phone  national_code areacode       Type\n",
       "0   1  +989125701643   4.402930e+08      THR       Dual\n",
       "1   2  +989306361180            NaN      NaN  Exclusive\n",
       "2   3  +989128056534   2.218211e+09      NaN  Exclusive\n",
       "3   4  +989199399204            NaN      NaN  Exclusive\n",
       "4   5  +989353044009            NaN      NaN  Exclusive"
      ]
     },
     "execution_count": 8,
     "metadata": {},
     "output_type": "execute_result"
    }
   ],
   "source": [
    "df_merge_difkey.head()"
   ]
  },
  {
   "cell_type": "code",
   "execution_count": 9,
   "metadata": {},
   "outputs": [],
   "source": [
    "df_merge_difkey.to_csv('DriverDB.csv', index=False)"
   ]
  },
  {
   "cell_type": "code",
   "execution_count": null,
   "metadata": {},
   "outputs": [],
   "source": []
  }
 ],
 "metadata": {
  "kernelspec": {
   "display_name": "Python 3",
   "language": "python",
   "name": "python3"
  },
  "language_info": {
   "codemirror_mode": {
    "name": "ipython",
    "version": 3
   },
   "file_extension": ".py",
   "mimetype": "text/x-python",
   "name": "python",
   "nbconvert_exporter": "python",
   "pygments_lexer": "ipython3",
   "version": "3.6.8"
  }
 },
 "nbformat": 4,
 "nbformat_minor": 4
}
